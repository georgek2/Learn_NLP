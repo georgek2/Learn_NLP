{
 "cells": [
  {
   "cell_type": "code",
   "execution_count": 1,
   "metadata": {},
   "outputs": [],
   "source": [
    "import spacy\n",
    "import en_core_web_sm\n",
    "\n",
    "from spacy.matcher import PhraseMatcher"
   ]
  },
  {
   "cell_type": "code",
   "execution_count": 2,
   "metadata": {},
   "outputs": [],
   "source": [
    "nlp = en_core_web_sm.load()"
   ]
  },
  {
   "cell_type": "code",
   "execution_count": 3,
   "metadata": {},
   "outputs": [],
   "source": [
    "doc = nlp('I like Samsung, but using Apple as the most popular brand. Buying Google and Huawei are also high quality brands.'\n",
    "         'Mercedes and Amazon are spoken for. You need to get your hands on a Tesla.')"
   ]
  },
  {
   "cell_type": "code",
   "execution_count": 4,
   "metadata": {},
   "outputs": [
    {
     "data": {
      "text/plain": [
       "['Samsung', 'Apple', 'Google', 'Huawei', 'Mercedes', 'Amazon', 'Tesla']"
      ]
     },
     "execution_count": 4,
     "metadata": {},
     "output_type": "execute_result"
    }
   ],
   "source": [
    "terms = ['Samsung', 'Apple', 'Google', 'Huawei', 'Mercedes', 'Amazon', 'Tesla']\n",
    "terms"
   ]
  },
  {
   "cell_type": "code",
   "execution_count": 5,
   "metadata": {},
   "outputs": [
    {
     "name": "stdout",
     "output_type": "stream",
     "text": [
      "Token\t\t\tLemma\t\t\tIs_Stopword\n",
      "I\t\t-PRON-\t\tTrue\n",
      "like\t\tlike\t\tFalse\n",
      "Samsung\t\tSamsung\t\tFalse\n",
      ",\t\t,\t\tFalse\n",
      "but\t\tbut\t\tTrue\n",
      "using\t\tuse\t\tTrue\n",
      "Apple\t\tApple\t\tFalse\n",
      "as\t\tas\t\tTrue\n",
      "the\t\tthe\t\tTrue\n",
      "most\t\tmost\t\tTrue\n",
      "popular\t\tpopular\t\tFalse\n",
      "brand\t\tbrand\t\tFalse\n",
      ".\t\t.\t\tFalse\n",
      "Buying\t\tBuying\t\tFalse\n",
      "Google\t\tGoogle\t\tFalse\n",
      "and\t\tand\t\tTrue\n",
      "Huawei\t\tHuawei\t\tFalse\n",
      "are\t\tbe\t\tTrue\n",
      "also\t\talso\t\tTrue\n",
      "high\t\thigh\t\tFalse\n",
      "quality\t\tquality\t\tFalse\n",
      "brands\t\tbrand\t\tFalse\n",
      ".\t\t.\t\tFalse\n",
      "Mercedes\t\tMercedes\t\tFalse\n",
      "and\t\tand\t\tTrue\n",
      "Amazon\t\tAmazon\t\tFalse\n",
      "are\t\tbe\t\tTrue\n",
      "spoken\t\tspeak\t\tFalse\n",
      "for\t\tfor\t\tTrue\n",
      ".\t\t.\t\tFalse\n",
      "You\t\t-PRON-\t\tTrue\n",
      "need\t\tneed\t\tFalse\n",
      "to\t\tto\t\tTrue\n",
      "get\t\tget\t\tTrue\n",
      "your\t\t-PRON-\t\tTrue\n",
      "hands\t\thand\t\tFalse\n",
      "on\t\ton\t\tTrue\n",
      "a\t\ta\t\tTrue\n",
      "Tesla\t\tTesla\t\tFalse\n",
      ".\t\t.\t\tFalse\n"
     ]
    }
   ],
   "source": [
    "print('Token\\t\\t\\tLemma\\t\\t\\tIs_Stopword')\n",
    "for token in doc:\n",
    "    print(f'{token}\\t\\t{token.lemma_}\\t\\t{token.is_stop}')"
   ]
  },
  {
   "cell_type": "code",
   "execution_count": 6,
   "metadata": {},
   "outputs": [],
   "source": [
    "matcher = PhraseMatcher(nlp.vocab, attr='LOWER')"
   ]
  },
  {
   "cell_type": "code",
   "execution_count": 7,
   "metadata": {},
   "outputs": [
    {
     "data": {
      "text/plain": [
       "[Samsung, Apple, Google, Huawei, Mercedes, Amazon, Tesla]"
      ]
     },
     "execution_count": 7,
     "metadata": {},
     "output_type": "execute_result"
    }
   ],
   "source": [
    "patterns = [nlp(term) for term in terms]\n",
    "patterns"
   ]
  },
  {
   "cell_type": "code",
   "execution_count": 8,
   "metadata": {},
   "outputs": [],
   "source": [
    "matcher.add('Terminology', patterns)"
   ]
  },
  {
   "cell_type": "code",
   "execution_count": 9,
   "metadata": {},
   "outputs": [
    {
     "data": {
      "text/plain": [
       "[(18086124541977399096, 2, 3),\n",
       " (18086124541977399096, 6, 7),\n",
       " (18086124541977399096, 14, 15),\n",
       " (18086124541977399096, 16, 17),\n",
       " (18086124541977399096, 23, 24),\n",
       " (18086124541977399096, 25, 26),\n",
       " (18086124541977399096, 38, 39)]"
      ]
     },
     "execution_count": 9,
     "metadata": {},
     "output_type": "execute_result"
    }
   ],
   "source": [
    "matches = matcher(doc)\n",
    "matches"
   ]
  },
  {
   "cell_type": "code",
   "execution_count": 10,
   "metadata": {},
   "outputs": [],
   "source": [
    "match_id, start, end = matches[3]"
   ]
  },
  {
   "cell_type": "code",
   "execution_count": 11,
   "metadata": {},
   "outputs": [
    {
     "name": "stdout",
     "output_type": "stream",
     "text": [
      "Terminology Samsung\n",
      "Terminology Apple\n",
      "Terminology Google\n",
      "Terminology Huawei\n",
      "Terminology Mercedes\n",
      "Terminology Amazon\n",
      "Terminology Tesla\n"
     ]
    }
   ],
   "source": [
    "for match in matches:\n",
    "    match_id, start, end = match[0], match[1], match[2]\n",
    "    print(nlp.vocab.strings[match_id], doc[start:end])"
   ]
  },
  {
   "cell_type": "code",
   "execution_count": 12,
   "metadata": {},
   "outputs": [
    {
     "name": "stdout",
     "output_type": "stream",
     "text": [
      "Terminology Tesla\n"
     ]
    }
   ],
   "source": [
    "print(nlp.vocab.strings[match_id], doc[start:end])"
   ]
  },
  {
   "cell_type": "code",
   "execution_count": 13,
   "metadata": {},
   "outputs": [],
   "source": [
    "def get_matches(list):\n",
    "    result = []\n",
    "    for match in list:\n",
    "        match_id, start, end = match[0], match[1], match[2]\n",
    "        item = nlp.vocab.strings[match_id], doc[start:end]\n",
    "        result.append(item)\n",
    "        \n",
    "    return result"
   ]
  },
  {
   "cell_type": "code",
   "execution_count": 14,
   "metadata": {},
   "outputs": [
    {
     "data": {
      "text/plain": [
       "[('Terminology', Samsung),\n",
       " ('Terminology', Apple),\n",
       " ('Terminology', Google),\n",
       " ('Terminology', Huawei),\n",
       " ('Terminology', Mercedes),\n",
       " ('Terminology', Amazon),\n",
       " ('Terminology', Tesla)]"
      ]
     },
     "execution_count": 14,
     "metadata": {},
     "output_type": "execute_result"
    }
   ],
   "source": [
    "get_matches(matches)"
   ]
  },
  {
   "cell_type": "code",
   "execution_count": null,
   "metadata": {},
   "outputs": [],
   "source": []
  }
 ],
 "metadata": {
  "kernelspec": {
   "display_name": "Python 3",
   "language": "python",
   "name": "python3"
  },
  "language_info": {
   "codemirror_mode": {
    "name": "ipython",
    "version": 3
   },
   "file_extension": ".py",
   "mimetype": "text/x-python",
   "name": "python",
   "nbconvert_exporter": "python",
   "pygments_lexer": "ipython3",
   "version": "3.7.9"
  }
 },
 "nbformat": 4,
 "nbformat_minor": 4
}
